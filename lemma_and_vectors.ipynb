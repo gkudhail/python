{
 "cells": [
  {
   "cell_type": "markdown",
   "metadata": {},
   "source": [
    "# Lemma"
   ]
  },
  {
   "cell_type": "code",
   "execution_count": 10,
   "metadata": {},
   "outputs": [],
   "source": [
    "import spacy\n",
    "from nltk.stem import PorterStemmer\n",
    "\n",
    "# Load the English language model for SpaCy\n",
    "nlp = spacy.load(\"en_core_web_lg\")\n",
    "\n",
    "# Initialize the Porter Stemmer\n",
    "stemmer = PorterStemmer()\n"
   ]
  },
  {
   "cell_type": "code",
   "execution_count": 11,
   "metadata": {},
   "outputs": [
    {
     "data": {
      "text/plain": [
       "([('The', 'the'),\n",
       "  ('striped', 'striped'),\n",
       "  ('bats', 'bat'),\n",
       "  ('are', 'be'),\n",
       "  ('hanging', 'hang'),\n",
       "  ('on', 'on'),\n",
       "  ('their', 'their'),\n",
       "  ('feet', 'foot'),\n",
       "  ('for', 'for'),\n",
       "  ('best', 'good')],\n",
       " [('The', 'the'),\n",
       "  ('striped', 'stripe'),\n",
       "  ('bats', 'bat'),\n",
       "  ('are', 'are'),\n",
       "  ('hanging', 'hang'),\n",
       "  ('on', 'on'),\n",
       "  ('their', 'their'),\n",
       "  ('feet', 'feet'),\n",
       "  ('for', 'for'),\n",
       "  ('best', 'best')])"
      ]
     },
     "execution_count": 11,
     "metadata": {},
     "output_type": "execute_result"
    }
   ],
   "source": [
    "# Example sentence\n",
    "sentence = \"The striped bats are hanging on their feet for best\"\n",
    "\n",
    "# Process the sentence with SpaCy for lemmatization\n",
    "doc = nlp(sentence)\n",
    "\n",
    "# Lemmatization with SpaCy\n",
    "lemmatization_results = [(token.text, token.lemma_) for token in doc]\n",
    "\n",
    "# Stemming with NLTK\n",
    "stemming_results = [(word, stemmer.stem(word)) for word in sentence.split()]\n",
    "\n",
    "(lemmatization_results, stemming_results)"
   ]
  },
  {
   "cell_type": "markdown",
   "metadata": {},
   "source": [
    "# Vectorization"
   ]
  },
  {
   "cell_type": "code",
   "execution_count": 14,
   "metadata": {},
   "outputs": [],
   "source": [
    "# Process the texts\n",
    "doc1 = nlp(\"The sky is blue.\")\n",
    "doc2 = nlp(\"The sun is bright.\")"
   ]
  },
  {
   "cell_type": "code",
   "execution_count": 15,
   "metadata": {},
   "outputs": [
    {
     "name": "stdout",
     "output_type": "stream",
     "text": [
      "Cosine Similarity: 0.9123903082488434\n"
     ]
    }
   ],
   "source": [
    "# Compute cosine similarity\n",
    "similarity = doc1.similarity(doc2)\n",
    "\n",
    "print(f\"Cosine Similarity: {similarity}\")"
   ]
  },
  {
   "cell_type": "code",
   "execution_count": null,
   "metadata": {},
   "outputs": [],
   "source": []
  }
 ],
 "metadata": {
  "kernelspec": {
   "display_name": "Python 3",
   "language": "python",
   "name": "python3"
  },
  "language_info": {
   "codemirror_mode": {
    "name": "ipython",
    "version": 3
   },
   "file_extension": ".py",
   "mimetype": "text/x-python",
   "name": "python",
   "nbconvert_exporter": "python",
   "pygments_lexer": "ipython3",
   "version": "3.11.6"
  }
 },
 "nbformat": 4,
 "nbformat_minor": 2
}
