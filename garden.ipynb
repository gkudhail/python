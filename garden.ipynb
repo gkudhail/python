{
 "cells": [
  {
   "cell_type": "code",
   "execution_count": 1,
   "id": "9bc8306a-50b7-428c-943a-9d682cfe7f33",
   "metadata": {},
   "outputs": [],
   "source": [
    "import spacy\n"
   ]
  },
  {
   "cell_type": "code",
   "execution_count": 2,
   "id": "de7f1419-ae51-425e-b5c2-71694f4e2f3a",
   "metadata": {},
   "outputs": [],
   "source": [
    "gardenpathSentences_sampled = u\"The florist sent the flowers was pleased. The raft floated down the river sank. Mary gave the child a BandAid That, Jill is never here hurts. The cotton clothing is made of grows in Missisippi.\""
   ]
  },
  {
   "cell_type": "code",
   "execution_count": 3,
   "id": "74a13f8a-d3e2-4e6e-a42e-f62aed4c58b1",
   "metadata": {},
   "outputs": [
    {
     "data": {
      "text/plain": [
       "<spacy.lang.en.English at 0x1184f8560>"
      ]
     },
     "execution_count": 3,
     "metadata": {},
     "output_type": "execute_result"
    }
   ],
   "source": [
    "nlp = spacy.load('en_core_web_sm')\n",
    "nlp"
   ]
  },
  {
   "cell_type": "code",
   "execution_count": 4,
   "id": "2febfd4c-36a7-4037-88ee-553bc53d3ef8",
   "metadata": {},
   "outputs": [
    {
     "data": {
      "text/plain": [
       "The florist sent the flowers was pleased. The raft floated down the river sank. Mary gave the child a BandAid That, Jill is never here hurts. The cotton clothing is made of grows in Missisippi."
      ]
     },
     "execution_count": 4,
     "metadata": {},
     "output_type": "execute_result"
    }
   ],
   "source": [
    "doc = nlp(gardenpathSentences_sampled)\n",
    "doc\n"
   ]
  },
  {
   "cell_type": "code",
   "execution_count": 5,
   "id": "1671c9a2-3230-4148-9ffb-aef9e191842f",
   "metadata": {},
   "outputs": [
    {
     "data": {
      "text/plain": [
       "['The',\n",
       " 'florist',\n",
       " 'sent',\n",
       " 'the',\n",
       " 'flowers',\n",
       " 'was',\n",
       " 'pleased.',\n",
       " 'The',\n",
       " 'raft',\n",
       " 'floated',\n",
       " 'down',\n",
       " 'the',\n",
       " 'river',\n",
       " 'sank.',\n",
       " 'Mary',\n",
       " 'gave',\n",
       " 'the',\n",
       " 'child',\n",
       " 'a',\n",
       " 'BandAid',\n",
       " 'That,',\n",
       " 'Jill',\n",
       " 'is',\n",
       " 'never',\n",
       " 'here',\n",
       " 'hurts.',\n",
       " 'The',\n",
       " 'cotton',\n",
       " 'clothing',\n",
       " 'is',\n",
       " 'made',\n",
       " 'of',\n",
       " 'grows',\n",
       " 'in',\n",
       " 'Missisippi.']"
      ]
     },
     "execution_count": 5,
     "metadata": {},
     "output_type": "execute_result"
    }
   ],
   "source": [
    "doc.text.split()\n",
    "\n",
    "\n"
   ]
  },
  {
   "cell_type": "code",
   "execution_count": 6,
   "id": "927fb42d-f393-4a1e-bace-d68c253a1cbf",
   "metadata": {},
   "outputs": [
    {
     "data": {
      "text/plain": [
       "['The',\n",
       " 'florist',\n",
       " 'sent',\n",
       " 'the',\n",
       " 'flowers',\n",
       " 'was',\n",
       " 'pleased',\n",
       " '.',\n",
       " 'The',\n",
       " 'raft',\n",
       " 'floated',\n",
       " 'down',\n",
       " 'the',\n",
       " 'river',\n",
       " 'sank',\n",
       " '.',\n",
       " 'Mary',\n",
       " 'gave',\n",
       " 'the',\n",
       " 'child',\n",
       " 'a',\n",
       " 'BandAid',\n",
       " 'That',\n",
       " ',',\n",
       " 'Jill',\n",
       " 'is',\n",
       " 'never',\n",
       " 'here',\n",
       " 'hurts',\n",
       " '.',\n",
       " 'The',\n",
       " 'cotton',\n",
       " 'clothing',\n",
       " 'is',\n",
       " 'made',\n",
       " 'of',\n",
       " 'grows',\n",
       " 'in',\n",
       " 'Missisippi',\n",
       " '.']"
      ]
     },
     "execution_count": 6,
     "metadata": {},
     "output_type": "execute_result"
    }
   ],
   "source": [
    "[token.orth_ for token in doc]\n"
   ]
  },
  {
   "cell_type": "code",
   "execution_count": 7,
   "id": "52d98c8a-9c6d-469a-9b51-7ebcdbeaabbf",
   "metadata": {},
   "outputs": [
    {
     "name": "stdout",
     "output_type": "stream",
     "text": [
      "['The', 'florist', 'sent', 'the', 'flowers', 'was', 'pleased', 'The', 'raft', 'floated', 'down', 'the', 'river', 'sank', 'Mary', 'gave', 'the', 'child', 'a', 'BandAid', 'That', 'Jill', 'is', 'never', 'here', 'hurts', 'The', 'cotton', 'clothing', 'is', 'made', 'of', 'grows', 'in', 'Missisippi']\n"
     ]
    }
   ],
   "source": [
    "print([token.orth_ for token in doc if not token.is_punct | token.is_space])\n"
   ]
  },
  {
   "cell_type": "code",
   "execution_count": 8,
   "id": "217e0f68-91ec-46a7-a30e-effcd49f599f",
   "metadata": {},
   "outputs": [
    {
     "name": "stdout",
     "output_type": "stream",
     "text": [
      "The\n",
      "the\n",
      "was\n",
      "The\n",
      "down\n",
      "the\n",
      "the\n",
      "a\n",
      "That\n",
      "is\n",
      "never\n",
      "here\n",
      "The\n",
      "is\n",
      "made\n",
      "of\n",
      "in\n"
     ]
    }
   ],
   "source": [
    "for word in doc:\n",
    "   if word.is_stop == True:\n",
    "        print(word)"
   ]
  },
  {
   "cell_type": "code",
   "execution_count": 10,
   "id": "47277b63-e0c0-4761-b979-71218577a2ee",
   "metadata": {},
   "outputs": [
    {
     "name": "stdout",
     "output_type": "stream",
     "text": [
      "[(Mary, 'PERSON', 380), (Jill, 'PERSON', 380), (Missisippi, 'GPE', 384)]\n"
     ]
    }
   ],
   "source": [
    "# Get labels and entities and print them\n",
    "nlp_WalkingDownGardenPath = nlp(gardenpathSentences_sampled)\n",
    "nlp_WalkingDownGardenPath\n",
    "print([(i, i.label_, i.label) for i in nlp_WalkingDownGardenPath.ents])\n",
    "\n",
    "\n"
   ]
  },
  {
   "cell_type": "code",
   "execution_count": 11,
   "id": "997ab568-357a-4576-82eb-294a32a4cf1d",
   "metadata": {},
   "outputs": [
    {
     "name": "stdout",
     "output_type": "stream",
     "text": [
      "FAC:Buildings, airports, highways, bridges, etc.\n"
     ]
    }
   ],
   "source": [
    "# Get an explanation of an entity and print it\n",
    "entity_fac = spacy.explain(\"FAC\")\n",
    "print(f\"FAC:{entity_fac}\")"
   ]
  },
  {
   "cell_type": "code",
   "execution_count": null,
   "id": "ea3f4be4-9a81-4a84-b0f9-7ea4a990032b",
   "metadata": {},
   "outputs": [],
   "source": [
    "#a comment about 2 entities I looked up\n",
    "#for each entity what was it and what was its explanation you looked up?\n",
    "#did the entity make sense in terms of the words associated with it?\n",
    "\n",
    "#ANSWER: 1 entity is the concept of ambiguous meanings as defined by garden path phrases. But the results did not prove that\n",
    "#        2 entity is different routes output as alternatives to a garden path - so this was a very literal interpretation"
   ]
  }
 ],
 "metadata": {
  "kernelspec": {
   "display_name": "Python 3 (ipykernel)",
   "language": "python",
   "name": "python3"
  },
  "language_info": {
   "codemirror_mode": {
    "name": "ipython",
    "version": 3
   },
   "file_extension": ".py",
   "mimetype": "text/x-python",
   "name": "python",
   "nbconvert_exporter": "python",
   "pygments_lexer": "ipython3",
   "version": "3.12.2"
  }
 },
 "nbformat": 4,
 "nbformat_minor": 5
}
